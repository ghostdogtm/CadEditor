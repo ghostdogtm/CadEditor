{
 "cells": [
  {
   "cell_type": "markdown",
   "metadata": {},
   "source": [
    "ДЕКОМПРЕССИЯ"
   ]
  },
  {
   "cell_type": "code",
   "execution_count": 176,
   "metadata": {
    "collapsed": true
   },
   "outputs": [],
   "source": [
    "romName = r\"d:\\DEV\\CadEditor\\CadEditor\\Felix the Cat (U) [!].nes\"\n",
    "with open(romName, \"rb\") as f:\n",
    "    d = f.read()\n",
    "d = map(ord, d)"
   ]
  },
  {
   "cell_type": "code",
   "execution_count": 177,
   "metadata": {
    "collapsed": false
   },
   "outputs": [],
   "source": [
    "def readWord(d, addr):\n",
    "    return d[addr+1]<<8 | d[addr]"
   ]
  },
  {
   "cell_type": "code",
   "execution_count": 178,
   "metadata": {
    "collapsed": false
   },
   "outputs": [],
   "source": [
    "def addPtrToLinesPtr(addr):\n",
    "    return addr + 0x10010\n",
    "\n",
    "def addPtrToCompress(addr):\n",
    "    return addr + 0x10010\n",
    "\n",
    "def addPtrToLines(addr):\n",
    "    if addr < 0x8000:\n",
    "        addr += 0x8000\n",
    "    if addr > 0xE000:\n",
    "        addr -= 0x4000\n",
    "    return addr + 0x10010"
   ]
  },
  {
   "cell_type": "code",
   "execution_count": 179,
   "metadata": {
    "collapsed": false
   },
   "outputs": [
    {
     "name": "stdout",
     "output_type": "stream",
     "text": [
      "0x1b93f\n",
      "0x1b799\n"
     ]
    }
   ],
   "source": [
    "linesPtrsAddr = addPtrToLinesPtr(readWord(d,0x27e))\n",
    "print(hex(linesPtrsAddr))\n",
    "compressAddr = addPtrToCompress(readWord(d,0x280))\n",
    "print(hex(compressAddr))"
   ]
  },
  {
   "cell_type": "code",
   "execution_count": 180,
   "metadata": {
    "collapsed": false
   },
   "outputs": [],
   "source": [
    "def readCompress(d, addr):\n",
    "    ans = []\n",
    "    for c in xrange(128):\n",
    "        ans.append((d[addr], d[addr+1]))\n",
    "        addr += 2\n",
    "    return ans"
   ]
  },
  {
   "cell_type": "code",
   "execution_count": 181,
   "metadata": {
    "collapsed": false
   },
   "outputs": [],
   "source": [
    "compressedArr = readCompress(d, compressAddr)"
   ]
  },
  {
   "cell_type": "code",
   "execution_count": 182,
   "metadata": {
    "collapsed": false
   },
   "outputs": [],
   "source": [
    "def decompressLine(d, addr, LINE_HEIGHT = 24):\n",
    "    global maxCV\n",
    "    ans = []\n",
    "    while len(ans) < LINE_HEIGHT:\n",
    "        v = d[addr]\n",
    "        if v < 0x80:\n",
    "            ans.append(v)\n",
    "        else:\n",
    "            cv = v & 0x7F\n",
    "            repeatCount, repeatTile = compressedArr[cv]\n",
    "            ans.extend([repeatTile]*repeatCount)\n",
    "        addr += 1\n",
    "    return ans\n",
    "    #return ans[:LINE_HEIGHT]"
   ]
  },
  {
   "cell_type": "code",
   "execution_count": 183,
   "metadata": {
    "collapsed": false
   },
   "outputs": [],
   "source": [
    "def decompressScreen():\n",
    "    screen = []\n",
    "    #actually, it's 3 separate configs for level 1-1, 1-2, 1-3, but it has similar pointers and\n",
    "    # lie together, so we simple read x3 times to get info of whole level\n",
    "    WIDTH = 256*3\n",
    "    HEIGHT = 24\n",
    "    curLinePtrsAddr = linesPtrsAddr\n",
    "    #lineAddrs = []\n",
    "    for l in xrange(WIDTH):\n",
    "        #print \"CUR_LINE_PTR\", hex(curLinePtrsAddr)\n",
    "        lineAddr = addPtrToLines(readWord(d, curLinePtrsAddr))\n",
    "        #lineAddrs.append(lineAddr)\n",
    "        #print \"LINE_ADDR\", hex(readWord(d, curLinePtrsAddr))\n",
    "        vals = decompressLine(d, lineAddr, HEIGHT)\n",
    "        #print vals\n",
    "        assert(len(vals)== HEIGHT)\n",
    "        screen.extend(vals)\n",
    "        curLinePtrsAddr += 2\n",
    "    #print hex(min(lineAddrs))\n",
    "    #print hex(max(lineAddrs))\n",
    "    return screen"
   ]
  },
  {
   "cell_type": "code",
   "execution_count": 184,
   "metadata": {
    "collapsed": false
   },
   "outputs": [],
   "source": [
    "screen = decompressScreen()"
   ]
  },
  {
   "cell_type": "code",
   "execution_count": 185,
   "metadata": {
    "collapsed": false
   },
   "outputs": [],
   "source": [
    "dumpName = r\"d:\\DEV\\CadEditor\\CadEditor\\settings_felix_the_cat/dump1.bin\"\n",
    "with open(dumpName, \"wb\") as f:\n",
    "    v = \"\".join(map(chr, screen))\n",
    "    f.write(v)"
   ]
  },
  {
   "cell_type": "markdown",
   "metadata": {
    "collapsed": true
   },
   "source": [
    "КОМПРЕССИЯ"
   ]
  },
  {
   "cell_type": "code",
   "execution_count": 193,
   "metadata": {
    "collapsed": true
   },
   "outputs": [],
   "source": [
    "from itertools import groupby"
   ]
  },
  {
   "cell_type": "code",
   "execution_count": 194,
   "metadata": {
    "collapsed": true
   },
   "outputs": [],
   "source": [
    "dumpName = r\"d:\\DEV\\CadEditor\\CadEditor\\settings_felix_the_cat/dump1.bin\"\n",
    "with open(dumpName, \"rb\") as f:\n",
    "    d = f.read()\n",
    "    \n",
    "screen = map(ord, d)"
   ]
  },
  {
   "cell_type": "code",
   "execution_count": 195,
   "metadata": {
    "collapsed": true
   },
   "outputs": [],
   "source": [
    "def chunks(l, n):\n",
    "    \"\"\"Yield successive n-sized chunks from l.\"\"\"\n",
    "    for i in range(0, len(l), n):\n",
    "        yield l[i:i + n]"
   ]
  },
  {
   "cell_type": "code",
   "execution_count": 202,
   "metadata": {
    "collapsed": false
   },
   "outputs": [],
   "source": [
    "def rebuildCompress(screen, maxCompressSize = 64, LINE_LEN=24):\n",
    "    ans = {}\n",
    "    for line in chunks(screen, LINE_LEN):\n",
    "        repeats = [list(g) for _, g in groupby(line)]\n",
    "        repeats = [(g[0],len(g)) for g in repeats]\n",
    "        for (tileNo,tileCount) in repeats:\n",
    "            #for tc in xrange(tileCount, tileCount+1):\n",
    "            for tc in xrange(2,tileCount+1):\n",
    "                compressPair = tileNo, tc\n",
    "                if compressPair in ans:\n",
    "                    ans[compressPair] += 1\n",
    "                else:\n",
    "                    ans[compressPair] = 1\n",
    "    #--\n",
    "    def calcPoints(v):\n",
    "        (t,c), cnt = v\n",
    "        return -(c-1)*cnt\n",
    "    \n",
    "    ans = sorted(ans.iteritems(), key = calcPoints)\n",
    "    #reverse values\n",
    "    ans = map (lambda x: (x[0][1],x[0][0]), ans[:maxCompressSize])\n",
    "    return ans"
   ]
  },
  {
   "cell_type": "code",
   "execution_count": 203,
   "metadata": {
    "collapsed": false
   },
   "outputs": [],
   "source": [
    "##no recompression\n",
    "#compressedArr = rebuildCompress(screen) "
   ]
  },
  {
   "cell_type": "code",
   "execution_count": 204,
   "metadata": {
    "collapsed": true
   },
   "outputs": [],
   "source": [
    "def packRepeat(repeat, compressedArr):\n",
    "    tileNo, tileCount = repeat\n",
    "    if tileCount <= 0:\n",
    "        return []\n",
    "    if tileCount == 1:\n",
    "        return [tileNo]\n",
    "    #---\n",
    "    maxInd, maxCount = -1, -1\n",
    "    for (ind,(c,t)) in enumerate(compressedArr):\n",
    "        if t == tileNo and c <= tileCount:\n",
    "            if c > maxCount:\n",
    "                maxCount = c\n",
    "                maxInd = ind\n",
    "    if maxInd != -1:\n",
    "        return [0x80 | maxInd ] + packRepeat((tileNo, tileCount - maxCount), compressedArr)\n",
    "    #---\n",
    "    return [tileNo] + packRepeat((tileNo, tileCount-1), compressedArr)\n",
    "\n",
    "def compressLine(l, compressedArr):\n",
    "    repeats = [list(g) for _, g in groupby(l)]\n",
    "    repeats = [(g[0],len(g)) for g in repeats]\n",
    "    ans = []\n",
    "    for r in repeats:\n",
    "        ans.extend(packRepeat(r, compressedArr))\n",
    "    return ans\n"
   ]
  },
  {
   "cell_type": "code",
   "execution_count": 205,
   "metadata": {
    "collapsed": false
   },
   "outputs": [],
   "source": [
    "def compressScreen(screen):\n",
    "    LINE_LEN = 24\n",
    "    curAddr = 0xA8ED\n",
    "    prevLinesAddrs = {}\n",
    "    linesAddrs = []\n",
    "    linesArray = []\n",
    "    for line in chunks(screen, LINE_LEN):\n",
    "        cline = compressLine(line, compressedArr)\n",
    "        clineTupple = tuple(cline)\n",
    "        if clineTupple in prevLinesAddrs:\n",
    "            linesAddrs.append(prevLinesAddrs[clineTupple])\n",
    "            continue\n",
    "        prevLinesAddrs[clineTupple] = curAddr\n",
    "        linesAddrs.append(curAddr)\n",
    "        linesArray.extend(cline)\n",
    "        curAddr += len(cline)\n",
    "    return linesAddrs, linesArray\n",
    "\n",
    "linesAddrs, linesArray = compressScreen(screen)"
   ]
  },
  {
   "cell_type": "markdown",
   "metadata": {},
   "source": [
    "ПАТЧИНГ РОМА, ВОЗМОЖНО ОШИБКИ!"
   ]
  },
  {
   "cell_type": "code",
   "execution_count": 206,
   "metadata": {
    "collapsed": true
   },
   "outputs": [],
   "source": [
    "def wordToBytes(word):\n",
    "    return word&0xFF, word>>8"
   ]
  },
  {
   "cell_type": "code",
   "execution_count": 208,
   "metadata": {
    "collapsed": false
   },
   "outputs": [],
   "source": [
    "romPatchLinesArrayAddr = 0x1B93F\n",
    "romPatchDataArrayAddr  = 0x1A8FD\n",
    "romPatchCompressArrayAddr = 0x1B799\n",
    "dataLines = []\n",
    "for addr in linesAddrs:\n",
    "    dataLines.extend(wordToBytes(addr))\n",
    "    \n",
    "romName = r\"d:\\DEV\\CadEditor\\CadEditor\\Felix the Cat (U) [!].nes\"\n",
    "romName2 = r\"d:\\DEV\\CadEditor\\CadEditor\\Felix the Cat (U) [!]-2.nes\"\n",
    "with open(romName, \"rb\") as f:\n",
    "    d = f.read()\n",
    "    d = map(ord, d)\n",
    "#write lines pointers\n",
    "for x in xrange(len(dataLines)):\n",
    "    #we must save some bits it hi bytes addr, because they used to encoding objects\n",
    "    if x%2 == 1:\n",
    "        v = d[romPatchLinesArrayAddr+x]\n",
    "        v = (v & 0xC0) | (dataLines[x] & 0x3F)\n",
    "        d[romPatchLinesArrayAddr+x] = v\n",
    "    else:\n",
    "        d[romPatchLinesArrayAddr+x] = dataLines[x]\n",
    "#write lines data\n",
    "d[romPatchDataArrayAddr:romPatchDataArrayAddr+len(linesArray)] = linesArray\n",
    "#write compress dict\n",
    "compressedData = [y for x in compressedArr for y in x]\n",
    "d[romPatchCompressArrayAddr:romPatchCompressArrayAddr+len(compressedData)] = compressedData\n",
    "with open(romName2, \"wb\") as f:\n",
    "    d =  \"\".join(map(chr, d))\n",
    "    f.write(d)"
   ]
  },
  {
   "cell_type": "code",
   "execution_count": null,
   "metadata": {
    "collapsed": true
   },
   "outputs": [],
   "source": []
  },
  {
   "cell_type": "code",
   "execution_count": null,
   "metadata": {
    "collapsed": true
   },
   "outputs": [],
   "source": []
  },
  {
   "cell_type": "code",
   "execution_count": null,
   "metadata": {
    "collapsed": true
   },
   "outputs": [],
   "source": []
  }
 ],
 "metadata": {
  "kernelspec": {
   "display_name": "Python 2",
   "language": "python",
   "name": "python2"
  },
  "language_info": {
   "codemirror_mode": {
    "name": "ipython",
    "version": 2
   },
   "file_extension": ".py",
   "mimetype": "text/x-python",
   "name": "python",
   "nbconvert_exporter": "python",
   "pygments_lexer": "ipython2",
   "version": "2.7.12"
  }
 },
 "nbformat": 4,
 "nbformat_minor": 0
}
